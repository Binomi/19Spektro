{
 "metadata": {
  "name": "Auswertung19"
 },
 "nbformat": 3,
 "nbformat_minor": 0,
 "worksheets": [
  {
   "cells": [
    {
     "cell_type": "code",
     "collapsed": false,
     "input": [
      "import maabara as ma\n",
      "import math\n",
      "from numpy import array\n",
      "from uncertainties import ufloat"
     ],
     "language": "python",
     "metadata": {},
     "outputs": [],
     "prompt_number": 4
    },
    {
     "cell_type": "code",
     "collapsed": false,
     "input": [
      "def pTex(x):\n",
      "    return \"$\"+str(ufloat(x[0],x[1])).replace(\"+/-\",\" \\pm \").replace(\"e+\",\"10^\")+\"$\"\n",
      "def pTex2(x,n):\n",
      "    return pTex([x[0]*math.pow(10,n),x[1]*math.pow(10,n)])\n",
      "def rad(phi):\n",
      "    return phi*math.pi/180\n",
      "def deg(x):\n",
      "    return x*180/math.pi"
     ],
     "language": "python",
     "metadata": {},
     "outputs": [],
     "prompt_number": 27
    },
    {
     "cell_type": "code",
     "collapsed": false,
     "input": [
      "B=[[5.2,0.1],[5.2,0.2],[6.2,0.2]]\n",
      "D=[[4.33,0.19],[13.39,0.26],[8.45,0.22]]\n",
      "delta=[38.7,51.9,65]\n",
      "S=[]\n",
      "A=[]\n",
      "for i in range(len(delta)):\n",
      "    delta[i]=rad(delta[i])\n",
      "    S1=ma.Sheet(\"B*cos((d+e)/2)\",\"S\")\n",
      "    S1.v('B',B[i][0],B[i][1])\n",
      "    S1.v('d',delta[i],rad(0.1),\"\\delta\")\n",
      "    S1.v('e',rad(60),tex=\"\\epsilon\")\n",
      "    S.append(list(S1.get_result()))\n",
      "    print pTex(S[i])\n",
      "print S\n",
      "for i in range(len(delta)):\n",
      "    A1=ma.Sheet(\"10000*d*s\",\"A\")\n",
      "    A1.v('d',D[i][0],D[i][1],\"D\")\n",
      "    A1.v('s',S[i][0],S[i][1],\"S\")\n",
      "    A.append(list(A1.get_result()))\n",
      "    print pTex(A[i])"
     ],
     "language": "python",
     "metadata": {},
     "outputs": [
      {
       "output_type": "stream",
       "stream": "stdout",
       "text": [
        "$3.39 \\pm 0.07$\n",
        "$2.91 \\pm 0.11$"
       ]
      },
      {
       "output_type": "stream",
       "stream": "stdout",
       "text": [
        "\n",
        "$2.86 \\pm 0.09$"
       ]
      },
      {
       "output_type": "stream",
       "stream": "stdout",
       "text": [
        "\n",
        "[[3.387470104696059, 0.06523457181085204], [2.911564043522502, 0.11204633293900018], [2.862841402037721, 0.09247433969436489]]\n",
        "$(1.47 \\pm 0.07)10^05$\n",
        "$(3.90 \\pm 0.17)10^05$"
       ]
      },
      {
       "output_type": "stream",
       "stream": "stdout",
       "text": [
        "\n",
        "$(2.42 \\pm 0.10)10^05$"
       ]
      },
      {
       "output_type": "stream",
       "stream": "stdout",
       "text": [
        "\n"
       ]
      }
     ],
     "prompt_number": 29
    }
   ],
   "metadata": {}
  }
 ]
}