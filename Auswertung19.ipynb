{
 "metadata": {
  "name": "",
  "signature": "sha256:14208ac6405017259cc94dbe52315d4195897ebc3f3873688a02248e2ad1c065"
 },
 "nbformat": 3,
 "nbformat_minor": 0,
 "worksheets": [
  {
   "cells": [
    {
     "cell_type": "code",
     "collapsed": false,
     "input": [
      "import maabara as ma\n",
      "import math\n",
      "from numpy import array\n",
      "from uncertainties import ufloat"
     ],
     "language": "python",
     "metadata": {},
     "outputs": [],
     "prompt_number": 1
    },
    {
     "cell_type": "code",
     "collapsed": false,
     "input": [
      "def pTex(x):\n",
      "    return \"$\"+str(ufloat(x[0],x[1])).replace(\"+/-\",\" \\pm \").replace(\"e+\",\"10^\")+\"$\"\n",
      "def pTex2(x,n):\n",
      "    return pTex([x[0]*math.pow(10,n),x[1]*math.pow(10,n)])\n",
      "def rad(phi):\n",
      "    return phi*math.pi/180\n",
      "def deg(x):\n",
      "    return x*180/math.pi"
     ],
     "language": "python",
     "metadata": {},
     "outputs": [],
     "prompt_number": 2
    },
    {
     "cell_type": "code",
     "collapsed": false,
     "input": [
      "B=[[5.2,0.1],[5.2,0.2],[6.2,0.2]]\n",
      "D=[[4.33,0.19],[13.39,0.26],[8.45,0.22]]\n",
      "delta=[38.7,51.9,65]\n",
      "S=[]\n",
      "A=[]\n",
      "for i in range(len(delta)):\n",
      "    delta[i]=rad(delta[i])\n",
      "    S1=ma.Sheet(\"B*cos((d+e)/2)\",\"S\")\n",
      "    S1.v('B',B[i][0],B[i][1])\n",
      "    S1.v('d',delta[i],rad(0.1),\"\\delta\")\n",
      "    S1.v('e',rad(60),tex=\"\\epsilon\")\n",
      "    S.append(list(S1.get_result()))\n",
      "    print pTex(S[i])\n",
      "print S"
     ],
     "language": "python",
     "metadata": {},
     "outputs": [
      {
       "output_type": "stream",
       "stream": "stdout",
       "text": [
        "$3.39 \\pm 0.07$\n",
        "$2.91 \\pm 0.11$"
       ]
      },
      {
       "output_type": "stream",
       "stream": "stdout",
       "text": [
        "\n",
        "$2.86 \\pm 0.09$"
       ]
      },
      {
       "output_type": "stream",
       "stream": "stdout",
       "text": [
        "\n",
        "[[3.387470104696059, 0.06523457181085204], [2.911564043522502, 0.11204633293900018], [2.862841402037721, 0.09247433969436489]]\n"
       ]
      }
     ],
     "prompt_number": 3
    },
    {
     "cell_type": "code",
     "collapsed": false,
     "input": [
      "for i in range(len(delta)):\n",
      "    A1=ma.Sheet(\"10000*d*s\",\"A\")\n",
      "    A1.v('d',D[i][0],D[i][1],\"D\")\n",
      "    A1.v('s',S[i][0],S[i][1],\"S\")\n",
      "    A.append(list(A1.get_result()))\n",
      "    print pTex(A[i])"
     ],
     "language": "python",
     "metadata": {},
     "outputs": [
      {
       "output_type": "stream",
       "stream": "stdout",
       "text": [
        "$(1.47 \\pm 0.07)10^05$\n",
        "$(3.90 \\pm 0.17)10^05$"
       ]
      },
      {
       "output_type": "stream",
       "stream": "stdout",
       "text": [
        "\n",
        "$(2.42 \\pm 0.10)10^05$"
       ]
      },
      {
       "output_type": "stream",
       "stream": "stdout",
       "text": [
        "\n"
       ]
      }
     ],
     "prompt_number": 4
    },
    {
     "cell_type": "code",
     "collapsed": false,
     "input": [
      "for i in range(len(A)):\n",
      "    deltaLambda=ma.Sheet(\"579070/a\",'\\Delta \\lambda')\n",
      "    deltaLambda.v('a',A[i][0],A[i][1],\"A\")\n",
      "    deltaLambda.ps()"
     ],
     "language": "python",
     "metadata": {},
     "outputs": [
      {
       "output_type": "stream",
       "stream": "stdout",
       "text": [
        "\\Delta \\lambda=\\frac{579070}{A}\n",
        "\n",
        "\\Delta \\lambda=3.9 \\pm 0.2\n",
        "\n",
        "\\sigma_{\\Delta \\lambda}=\\frac{579070}{A^{2}} \\cdot \\sigma_{A}\n",
        "\n",
        "\\Delta \\lambda=\\frac{579070}{A}\n"
       ]
      },
      {
       "output_type": "stream",
       "stream": "stdout",
       "text": [
        "\n",
        "\\Delta \\lambda=1.49 \\pm 0.06\n",
        "\n",
        "\\sigma_{\\Delta \\lambda}=\\frac{579070}{A^{2}} \\cdot \\sigma_{A}\n",
        "\n",
        "\\Delta \\lambda=\\frac{579070}{A}\n"
       ]
      },
      {
       "output_type": "stream",
       "stream": "stdout",
       "text": [
        "\n",
        "\\Delta \\lambda=2.4 \\pm 0.1\n",
        "\n",
        "\\sigma_{\\Delta \\lambda}=\\frac{579070}{A^{2}} \\cdot \\sigma_{A}\n",
        "\n"
       ]
      }
     ],
     "prompt_number": 5
    },
    {
     "cell_type": "code",
     "collapsed": false,
     "input": [
      "offset=1.3\n",
      "feintrieb=27.52#mm evtl. nicht wichtig\n",
      "k=[1,4,8]\n",
      "violett1=[3.7,10.7,21.9]\n",
      "violett2=[3.7,11.4,21.9]\n",
      "gruen=[4.5,14.0,27.5]\n",
      "gelb1=[4.7,14.7,29.1]\n",
      "gelb2=[4.7,14.8,29.3]\n",
      "wellenl=[404.66,407.78,546.07,576.96,579.07]#nm\n",
      "messwerte=[violett1,violett2,gruen,gelb1,gelb2]\n",
      "for i in range(len(messwerte)):\n",
      "    for j in range(len(messwerte[i])):\n",
      "        messwerte[i][j]=rad(messwerte[i][j]-offset)"
     ],
     "language": "python",
     "metadata": {},
     "outputs": [],
     "prompt_number": 6
    },
    {
     "cell_type": "code",
     "collapsed": false,
     "input": [
      "a=[]\n",
      "b=[]\n",
      "for i in range(len(messwerte)):\n",
      "    for j in range(len(messwerte[i])):\n",
      "        gitter=ma.Sheet(\"k*l/sin(x)\",\"a\")\n",
      "        gitter.v('k',k[j])\n",
      "        gitter.v('l',wellenl[i],tex=\"\\lambda\")\n",
      "        gitter.v('x',messwerte[i][j],rad(0.1))\n",
      "        a.append(list(gitter.get_result()))\n",
      "        if(i<1):\n",
      "            b.append(list(gitter.get_result()))\n",
      "        print pTex2(a[i*3+j],-3)#micro meter\n",
      "    print\n",
      "a_gew=ma.weighted_average(a)\n",
      "b_gew=ma.weighted_average(b)\n",
      "print \"gewichteter Mittelwert: \",pTex2(a_gew,-3)\n",
      "print \"gewichteter Mittelwert ohne violett: \",pTex2(b_gew,-3)"
     ],
     "language": "python",
     "metadata": {},
     "outputs": [
      {
       "output_type": "stream",
       "stream": "stdout",
       "text": [
        "$9.7 \\pm 0.4$\n",
        "$9.91 \\pm 0.10$"
       ]
      },
      {
       "output_type": "stream",
       "stream": "stdout",
       "text": [
        "\n",
        "$9.20 \\pm 0.04$"
       ]
      },
      {
       "output_type": "stream",
       "stream": "stdout",
       "text": [
        "\n",
        "\n",
        "$9.7 \\pm 0.4$"
       ]
      },
      {
       "output_type": "stream",
       "stream": "stdout",
       "text": [
        "\n",
        "$9.30 \\pm 0.09$"
       ]
      },
      {
       "output_type": "stream",
       "stream": "stdout",
       "text": [
        "\n",
        "$9.27 \\pm 0.04$"
       ]
      },
      {
       "output_type": "stream",
       "stream": "stdout",
       "text": [
        "\n",
        "\n",
        "$9.78 \\pm 0.31$"
       ]
      },
      {
       "output_type": "stream",
       "stream": "stdout",
       "text": [
        "\n",
        "$9.94 \\pm 0.08$"
       ]
      },
      {
       "output_type": "stream",
       "stream": "stdout",
       "text": [
        "\n",
        "$9.895 \\pm 0.035$"
       ]
      },
      {
       "output_type": "stream",
       "stream": "stdout",
       "text": [
        "\n",
        "\n",
        "$9.73 \\pm 0.29$"
       ]
      },
      {
       "output_type": "stream",
       "stream": "stdout",
       "text": [
        "\n",
        "$9.96 \\pm 0.07$"
       ]
      },
      {
       "output_type": "stream",
       "stream": "stdout",
       "text": [
        "\n",
        "$9.897 \\pm 0.033$"
       ]
      },
      {
       "output_type": "stream",
       "stream": "stdout",
       "text": [
        "\n",
        "\n",
        "$9.76 \\pm 0.29$"
       ]
      },
      {
       "output_type": "stream",
       "stream": "stdout",
       "text": [
        "\n",
        "$9.92 \\pm 0.07$"
       ]
      },
      {
       "output_type": "stream",
       "stream": "stdout",
       "text": [
        "\n",
        "$9.868 \\pm 0.032$"
       ]
      },
      {
       "output_type": "stream",
       "stream": "stdout",
       "text": [
        "\n",
        "\n",
        "gewichteter Mittelwert:  $9.722 \\pm 0.015$\n",
        "gewichteter Mittelwert ohne violett:  $9.31 \\pm 0.04$\n"
       ]
      }
     ],
     "prompt_number": 7
    },
    {
     "cell_type": "code",
     "collapsed": false,
     "input": [
      "for i in range(len(messwerte[0])):\n",
      "    for j in range(len(messwerte)):\n",
      "       print \"&\", pTex([deg(messwerte[j][i]),0.1])\n",
      "    print \"\\\\\\\\\"\n",
      "    print"
     ],
     "language": "python",
     "metadata": {},
     "outputs": [
      {
       "output_type": "stream",
       "stream": "stdout",
       "text": [
        "& $2.40 \\pm 0.10$\n",
        "& $2.40 \\pm 0.10$\n",
        "& $3.20 \\pm 0.10$\n",
        "& $3.40 \\pm 0.10$\n",
        "& $3.40 \\pm 0.10$\n",
        "\\\\\n",
        "\n",
        "& $9.40 \\pm 0.10$\n",
        "& $10.10 \\pm 0.10$\n",
        "& $12.70 \\pm 0.10$\n",
        "& $13.40 \\pm 0.10$\n",
        "& $13.50 \\pm 0.10$\n",
        "\\\\\n",
        "\n",
        "& $20.60 \\pm 0.10$\n",
        "& $20.60 \\pm 0.10$\n",
        "& $26.20 \\pm 0.10$\n",
        "& $27.80 \\pm 0.10$\n",
        "& $28.00 \\pm 0.10$\n",
        "\\\\\n",
        "\n"
       ]
      }
     ],
     "prompt_number": 10
    },
    {
     "cell_type": "code",
     "collapsed": false,
     "input": [
      "da=[rad(0.1),rad(0.2)]\n",
      "alpha=[rad(14.7),rad(29.1)]\n",
      "k2=[4,8]\n",
      "for i in range(len(da)):\n",
      "    dl=ma.Sheet(\"cos(alpha)*da*a/k\",\"\\Delta\\lambda\")\n",
      "    dl.v('alpha',alpha[i],rad(0.1),tex=\"\\alpha\")\n",
      "    dl.v('da',da[i],rad(0.1),\"\\Delta \\\\alpha\")\n",
      "    dl.v('a',a_gew[0],a_gew[1])\n",
      "    dl.v('k',k2[i])\n",
      "    dl.print_result()"
     ],
     "language": "python",
     "metadata": {},
     "outputs": [
      {
       "latex": [
        "$$\\Delta\\lambda=\\frac{a}{k} \\cdot \\Delta \\alpha \\cdot \\cos{\\left (\\alpha \\right )}$$"
       ],
       "metadata": {},
       "output_type": "display_data",
       "text": [
        "<IPython.core.display.Math at 0x5806a50>"
       ]
      },
      {
       "output_type": "stream",
       "stream": "stdout",
       "text": [
        "\\Delta\\lambda=\\frac{a}{k} \\cdot \\Delta \\alpha \\cdot \\cos{\\left (\\alpha \\right )}\n",
        "\n"
       ]
      },
      {
       "latex": [
        "$$\\Delta\\lambda=4.1 \\pm 4.1$$"
       ],
       "metadata": {},
       "output_type": "display_data",
       "text": [
        "<IPython.core.display.Math at 0x5830450>"
       ]
      },
      {
       "output_type": "stream",
       "stream": "stdout",
       "text": [
        "\\Delta\\lambda=4.1 \\pm 4.1\n",
        "\n"
       ]
      },
      {
       "latex": [
        "$$\\sigma_{\\Delta\\lambda}=\\frac{1}{k} \\cdot \\sqrt{a^{2} \\cdot \\Delta \\alpha^{2} \\cdot \\sigma_{\\alpha}^{2} \\cdot \\sin^{2}{\\left (\\alpha \\right )} + a^{2} \\cdot \\sigma_{\\Delta \\alpha}^{2} \\cdot \\cos^{2}{\\left (\\alpha \\right )} + \\Delta \\alpha^{2} \\cdot \\sigma_{a}^{2} \\cdot \\cos^{2}{\\left (\\alpha \\right )}}$$"
       ],
       "metadata": {},
       "output_type": "display_data",
       "text": [
        "<IPython.core.display.Math at 0xc24cf50>"
       ]
      },
      {
       "output_type": "stream",
       "stream": "stdout",
       "text": [
        "\\sigma_{\\Delta\\lambda}=\\frac{1}{k} \\cdot \\sqrt{a^{2} \\cdot \\Delta \\alpha^{2} \\cdot \\sigma_{\\alpha}^{2} \\cdot \\sin^{2}{\\left (\\alpha \\right )} + a^{2} \\cdot \\sigma_{\\Delta \\alpha}^{2} \\cdot \\cos^{2}{\\left (\\alpha \\right )} + \\Delta \\alpha^{2} \\cdot \\sigma_{a}^{2} \\cdot \\cos^{2}{\\left (\\alpha \\right )}}\n",
        "\n"
       ]
      },
      {
       "latex": [
        "$$\\Delta\\lambda=\\frac{a}{k} \\cdot \\Delta \\alpha \\cdot \\cos{\\left (\\alpha \\right )}$$"
       ],
       "metadata": {},
       "output_type": "display_data",
       "text": [
        "<IPython.core.display.Math at 0x5806a50>"
       ]
      },
      {
       "output_type": "stream",
       "stream": "stdout",
       "text": [
        "\\Delta\\lambda=\\frac{a}{k} \\cdot \\Delta \\alpha \\cdot \\cos{\\left (\\alpha \\right )}\n",
        "\n"
       ]
      },
      {
       "latex": [
        "$$\\Delta\\lambda=3.7 \\pm 1.9$$"
       ],
       "metadata": {},
       "output_type": "display_data",
       "text": [
        "<IPython.core.display.Math at 0xc14b270>"
       ]
      },
      {
       "output_type": "stream",
       "stream": "stdout",
       "text": [
        "\\Delta\\lambda=3.7 \\pm 1.9\n",
        "\n"
       ]
      },
      {
       "latex": [
        "$$\\sigma_{\\Delta\\lambda}=\\frac{1}{k} \\cdot \\sqrt{a^{2} \\cdot \\Delta \\alpha^{2} \\cdot \\sigma_{\\alpha}^{2} \\cdot \\sin^{2}{\\left (\\alpha \\right )} + a^{2} \\cdot \\sigma_{\\Delta \\alpha}^{2} \\cdot \\cos^{2}{\\left (\\alpha \\right )} + \\Delta \\alpha^{2} \\cdot \\sigma_{a}^{2} \\cdot \\cos^{2}{\\left (\\alpha \\right )}}$$"
       ],
       "metadata": {},
       "output_type": "display_data",
       "text": [
        "<IPython.core.display.Math at 0x58300f0>"
       ]
      },
      {
       "output_type": "stream",
       "stream": "stdout",
       "text": [
        "\\sigma_{\\Delta\\lambda}=\\frac{1}{k} \\cdot \\sqrt{a^{2} \\cdot \\Delta \\alpha^{2} \\cdot \\sigma_{\\alpha}^{2} \\cdot \\sin^{2}{\\left (\\alpha \\right )} + a^{2} \\cdot \\sigma_{\\Delta \\alpha}^{2} \\cdot \\cos^{2}{\\left (\\alpha \\right )} + \\Delta \\alpha^{2} \\cdot \\sigma_{a}^{2} \\cdot \\cos^{2}{\\left (\\alpha \\right )}}\n",
        "\n"
       ]
      }
     ],
     "prompt_number": 8
    },
    {
     "cell_type": "code",
     "collapsed": false,
     "input": [
      "for i in range(len(k)):\n",
      "    lambdaViolett=ma.Sheet(\"sin(x)*a/k\",\"\\lambda_\\\\text{violett}\")\n",
      "    lambdaViolett.v('x',messwerte[0][i],rad(0.1),\"\\\\alpha\")\n",
      "    lambdaViolett.v('k',k[i])\n",
      "    lambdaViolett.v('a',b_gew[0],b_gew[1])\n",
      "    lambdaViolett.p()"
     ],
     "language": "python",
     "metadata": {},
     "outputs": [
      {
       "latex": [
        "$$\\lambda_\\text{violett}=\\frac{a}{k} \\cdot \\sin{\\left (\\alpha \\right )}$$"
       ],
       "metadata": {},
       "output_type": "display_data",
       "text": [
        "<IPython.core.display.Math at 0x5806a50>"
       ]
      },
      {
       "output_type": "stream",
       "stream": "stdout",
       "text": [
        "\\lambda_\\text{violett}=\\frac{a}{k} \\cdot \\sin{\\left (\\alpha \\right )}\n",
        "\n"
       ]
      },
      {
       "latex": [
        "$$\\lambda_\\text{violett}=\\left(3.9 \\pm 0.2\\right) \\times 10^{2}$$"
       ],
       "metadata": {},
       "output_type": "display_data",
       "text": [
        "<IPython.core.display.Math at 0x352b410>"
       ]
      },
      {
       "output_type": "stream",
       "stream": "stdout",
       "text": [
        "\\lambda_\\text{violett}=\\left(3.9 \\pm 0.2\\right) \\times 10^{2}\n",
        "\n"
       ]
      },
      {
       "latex": [
        "$$\\sigma_{\\lambda_\\text{violett}}=\\frac{1}{k} \\cdot \\sqrt{a^{2} \\cdot \\sigma_{\\alpha}^{2} \\cdot \\cos^{2}{\\left (\\alpha \\right )} + \\sigma_{a}^{2} \\cdot \\sin^{2}{\\left (\\alpha \\right )}}$$"
       ],
       "metadata": {},
       "output_type": "display_data",
       "text": [
        "<IPython.core.display.Math at 0x352b2f0>"
       ]
      },
      {
       "output_type": "stream",
       "stream": "stdout",
       "text": [
        "\\sigma_{\\lambda_\\text{violett}}=\\frac{1}{k} \\cdot \\sqrt{a^{2} \\cdot \\sigma_{\\alpha}^{2} \\cdot \\cos^{2}{\\left (\\alpha \\right )} + \\sigma_{a}^{2} \\cdot \\sin^{2}{\\left (\\alpha \\right )}}\n",
        "\n"
       ]
      },
      {
       "latex": [
        "$$\\lambda_\\text{violett}=\\frac{a}{k} \\cdot \\sin{\\left (\\alpha \\right )}$$"
       ],
       "metadata": {},
       "output_type": "display_data",
       "text": [
        "<IPython.core.display.Math at 0xc2ddcb0>"
       ]
      },
      {
       "output_type": "stream",
       "stream": "stdout",
       "text": [
        "\\lambda_\\text{violett}=\\frac{a}{k} \\cdot \\sin{\\left (\\alpha \\right )}\n",
        "\n"
       ]
      },
      {
       "latex": [
        "$$\\lambda_\\text{violett}=380.0 \\pm 4.3$$"
       ],
       "metadata": {},
       "output_type": "display_data",
       "text": [
        "<IPython.core.display.Math at 0xc2ddb90>"
       ]
      },
      {
       "output_type": "stream",
       "stream": "stdout",
       "text": [
        "\\lambda_\\text{violett}=380.0 \\pm 4.3\n",
        "\n"
       ]
      },
      {
       "latex": [
        "$$\\sigma_{\\lambda_\\text{violett}}=\\frac{1}{k} \\cdot \\sqrt{a^{2} \\cdot \\sigma_{\\alpha}^{2} \\cdot \\cos^{2}{\\left (\\alpha \\right )} + \\sigma_{a}^{2} \\cdot \\sin^{2}{\\left (\\alpha \\right )}}$$"
       ],
       "metadata": {},
       "output_type": "display_data",
       "text": [
        "<IPython.core.display.Math at 0xc2dd1d0>"
       ]
      },
      {
       "output_type": "stream",
       "stream": "stdout",
       "text": [
        "\\sigma_{\\lambda_\\text{violett}}=\\frac{1}{k} \\cdot \\sqrt{a^{2} \\cdot \\sigma_{\\alpha}^{2} \\cdot \\cos^{2}{\\left (\\alpha \\right )} + \\sigma_{a}^{2} \\cdot \\sin^{2}{\\left (\\alpha \\right )}}\n",
        "\n"
       ]
      },
      {
       "latex": [
        "$$\\lambda_\\text{violett}=\\frac{a}{k} \\cdot \\sin{\\left (\\alpha \\right )}$$"
       ],
       "metadata": {},
       "output_type": "display_data",
       "text": [
        "<IPython.core.display.Math at 0x57030f0>"
       ]
      },
      {
       "output_type": "stream",
       "stream": "stdout",
       "text": [
        "\\lambda_\\text{violett}=\\frac{a}{k} \\cdot \\sin{\\left (\\alpha \\right )}\n",
        "\n"
       ]
      },
      {
       "latex": [
        "$$\\lambda_\\text{violett}=409.3 \\pm 2.6$$"
       ],
       "metadata": {},
       "output_type": "display_data",
       "text": [
        "<IPython.core.display.Math at 0xc1efe70>"
       ]
      },
      {
       "output_type": "stream",
       "stream": "stdout",
       "text": [
        "\\lambda_\\text{violett}=409.3 \\pm 2.6\n",
        "\n"
       ]
      },
      {
       "latex": [
        "$$\\sigma_{\\lambda_\\text{violett}}=\\frac{1}{k} \\cdot \\sqrt{a^{2} \\cdot \\sigma_{\\alpha}^{2} \\cdot \\cos^{2}{\\left (\\alpha \\right )} + \\sigma_{a}^{2} \\cdot \\sin^{2}{\\left (\\alpha \\right )}}$$"
       ],
       "metadata": {},
       "output_type": "display_data",
       "text": [
        "<IPython.core.display.Math at 0xc1ef270>"
       ]
      },
      {
       "output_type": "stream",
       "stream": "stdout",
       "text": [
        "\\sigma_{\\lambda_\\text{violett}}=\\frac{1}{k} \\cdot \\sqrt{a^{2} \\cdot \\sigma_{\\alpha}^{2} \\cdot \\cos^{2}{\\left (\\alpha \\right )} + \\sigma_{a}^{2} \\cdot \\sin^{2}{\\left (\\alpha \\right )}}\n",
        "\n"
       ]
      }
     ],
     "prompt_number": 9
    }
   ],
   "metadata": {}
  }
 ]
}