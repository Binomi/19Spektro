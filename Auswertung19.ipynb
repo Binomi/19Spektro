{
 "metadata": {
  "name": "Auswertung19",
  "signature": "sha256:14208ac6405017259cc94dbe52315d4195897ebc3f3873688a02248e2ad1c065"
 },
 "nbformat": 3,
 "nbformat_minor": 0,
 "worksheets": [
  {
   "cells": [
    {
     "cell_type": "code",
     "collapsed": false,
     "input": [
      "import maabara as ma\n",
      "import math\n",
      "from numpy import array\n",
      "from uncertainties import ufloat"
     ],
     "language": "python",
     "metadata": {},
     "outputs": [],
     "prompt_number": 1
    },
    {
     "cell_type": "code",
     "collapsed": false,
     "input": [
      "def pTex(x):\n",
      "    return \"$\"+str(ufloat(x[0],x[1])).replace(\"+/-\",\" \\pm \").replace(\"e+\",\"10^\")+\"$\"\n",
      "def pTex2(x,n):\n",
      "    return pTex([x[0]*math.pow(10,n),x[1]*math.pow(10,n)])\n",
      "def rad(phi):\n",
      "    return phi*math.pi/180\n",
      "def deg(x):\n",
      "    return x*180/math.pi"
     ],
     "language": "python",
     "metadata": {},
     "outputs": [],
     "prompt_number": 2
    },
    {
     "cell_type": "code",
     "collapsed": false,
     "input": [
      "B=[[5.2,0.1],[5.2,0.2],[6.2,0.2]]\n",
      "D=[[4.33,0.19],[13.39,0.26],[8.45,0.22]]\n",
      "delta=[38.7,51.9,65]\n",
      "S=[]\n",
      "for i in range(len(delta)):\n",
      "    delta[i]=rad(delta[i])\n",
      "    S1=ma.Sheet(\"B*cos((d+e)/2)\",\"S\")\n",
      "    S1.v('B',B[i][0],B[i][1])\n",
      "    S1.v('d',delta[i],rad(0.1),\"\\delta\")\n",
      "    S1.v('e',rad(60),tex=\"\\epsilon\")\n",
      "    S.append(list(S1.get_result()))\n",
      "    print pTex(S[i])\n",
      "print S"
     ],
     "language": "python",
     "metadata": {},
     "outputs": [
      {
       "output_type": "stream",
       "stream": "stdout",
       "text": [
        "$3.39 \\pm 0.07$\n",
        "$2.91 \\pm 0.11$"
       ]
      },
      {
       "output_type": "stream",
       "stream": "stdout",
       "text": [
        "\n",
        "$2.86 \\pm 0.09$"
       ]
      },
      {
       "output_type": "stream",
       "stream": "stdout",
       "text": [
        "\n",
        "[[3.387470104696059, 0.06523457181085204], [2.911564043522502, 0.11204633293900018], [2.862841402037721, 0.09247433969436489]]\n"
       ]
      }
     ],
     "prompt_number": 3
    },
    {
     "cell_type": "code",
     "collapsed": false,
     "input": [
      "A=[]\n",
      "for i in range(len(delta)):\n",
      "    A1=ma.Sheet(\"10000*d*s\",\"A\")\n",
      "    A1.v('d',rad(D[i][0]),rad(D[i][1]),\"D\")\n",
      "    A1.v('s',S[i][0],S[i][1],\"S\")\n",
      "    A.append(list(A1.get_result()))\n",
      "    print pTex(A[i])"
     ],
     "language": "python",
     "metadata": {},
     "outputs": [
      {
       "output_type": "stream",
       "stream": "stdout",
       "text": [
        "$(2.56 \\pm 0.12)10^03$\n",
        "$(6.80 \\pm 0.29)10^03$\n",
        "$(4.22 \\pm 0.18)10^03$"
       ]
      },
      {
       "output_type": "stream",
       "stream": "stdout",
       "text": [
        "\n"
       ]
      }
     ],
     "prompt_number": 39
    },
    {
     "cell_type": "code",
     "collapsed": false,
     "input": [
      "for i in range(len(A)):\n",
      "    deltaLambda=ma.Sheet(\"579070/a\",'\\Delta \\lambda')\n",
      "    deltaLambda.v('a',A[i][0],A[i][1],\"A\")\n",
      "    deltaLambda.ps()"
     ],
     "language": "python",
     "metadata": {},
     "outputs": [
      {
       "output_type": "stream",
       "stream": "stdout",
       "text": [
        "\\Delta \\lambda=\\frac{579070}{A}\n",
        "\n",
        "\\Delta \\lambda=\\left(2.3 \\pm 0.1\\right) \\times 10^{2}\n",
        "\n",
        "\\sigma_{\\Delta \\lambda}=\\frac{579070}{A^{2}} \\cdot \\sigma_{A}\n",
        "\n",
        "\\Delta \\lambda=\\frac{579070}{A}\n",
        "\n",
        "\\Delta \\lambda=85.1 \\pm 3.7\n",
        "\n",
        "\\sigma_{\\Delta \\lambda}=\\frac{579070}{A^{2}} \\cdot \\sigma_{A}\n",
        "\n",
        "\\Delta \\lambda=\\frac{579070}{A}\n",
        "\n",
        "\\Delta \\lambda=137.2 \\pm 5.7\n",
        "\n",
        "\\sigma_{\\Delta \\lambda}=\\frac{579070}{A^{2}} \\cdot \\sigma_{A}\n",
        "\n"
       ]
      }
     ],
     "prompt_number": 42
    },
    {
     "cell_type": "code",
     "collapsed": false,
     "input": [
      "offset=1.4\n",
      "feintrieb=27.52#mm evtl. nicht wichtig\n",
      "k=[1,4,8]\n",
      "violett1=[3.7,10.7,21.9]\n",
      "violett2=[3.7,11.4,21.9]\n",
      "gruen=[4.5,14.0,27.5]\n",
      "gelb1=[4.7,14.7,29.1]\n",
      "gelb2=[4.7,14.8,29.3]\n",
      "wellenl=[404.66,407.78,546.07,576.96,579.07]#nm\n",
      "messwerte=[violett1,violett2,gruen,gelb1,gelb2]\n",
      "for i in range(len(messwerte)):\n",
      "    for j in range(len(messwerte[i])):\n",
      "        messwerte[i][j]=rad(messwerte[i][j]-offset)"
     ],
     "language": "python",
     "metadata": {},
     "outputs": [],
     "prompt_number": 19
    },
    {
     "cell_type": "code",
     "collapsed": false,
     "input": [
      "a=[]\n",
      "b=[]\n",
      "for i in range(len(messwerte)):\n",
      "    for j in range(len(messwerte[i])):\n",
      "        gitter=ma.Sheet(\"k*l/sin(x)\",\"a\")\n",
      "        gitter.v('k',k[j])\n",
      "        gitter.v('l',wellenl[i],tex=\"\\lambda\")\n",
      "        gitter.v('x',messwerte[i][j],rad(0.1))\n",
      "        a.append(list(gitter.get_result()))\n",
      "        if(i>1):\n",
      "            b.append(list(gitter.get_result()))\n",
      "        print pTex2(a[i*3+j],-3)#micro meter\n",
      "    print\n",
      "a_gew=ma.weighted_average(a)\n",
      "b_gew=ma.weighted_average(b)\n",
      "print \"gewichteter Mittelwert: \",pTex2(a_gew,-3)\n",
      "print \"gewichteter Mittelwert ohne violett: \",pTex2(b_gew,-3)"
     ],
     "language": "python",
     "metadata": {},
     "outputs": [
      {
       "output_type": "stream",
       "stream": "stdout",
       "text": [
        "$10.1 \\pm 0.4$\n",
        "$10.02 \\pm 0.11$"
       ]
      },
      {
       "output_type": "stream",
       "stream": "stdout",
       "text": [
        "\n",
        "$9.24 \\pm 0.04$"
       ]
      },
      {
       "output_type": "stream",
       "stream": "stdout",
       "text": [
        "\n",
        "\n",
        "$10.2 \\pm 0.4$"
       ]
      },
      {
       "output_type": "stream",
       "stream": "stdout",
       "text": [
        "\n",
        "$9.39 \\pm 0.09$"
       ]
      },
      {
       "output_type": "stream",
       "stream": "stdout",
       "text": [
        "\n",
        "$9.32 \\pm 0.04$"
       ]
      },
      {
       "output_type": "stream",
       "stream": "stdout",
       "text": [
        "\n",
        "\n",
        "$10.10 \\pm 0.33$"
       ]
      },
      {
       "output_type": "stream",
       "stream": "stdout",
       "text": [
        "\n",
        "$10.01 \\pm 0.08$"
       ]
      },
      {
       "output_type": "stream",
       "stream": "stdout",
       "text": [
        "\n",
        "$9.930 \\pm 0.035$"
       ]
      },
      {
       "output_type": "stream",
       "stream": "stdout",
       "text": [
        "\n",
        "\n",
        "$10.02 \\pm 0.30$"
       ]
      },
      {
       "output_type": "stream",
       "stream": "stdout",
       "text": [
        "\n",
        "$10.03 \\pm 0.07$"
       ]
      },
      {
       "output_type": "stream",
       "stream": "stdout",
       "text": [
        "\n",
        "$9.930 \\pm 0.033$"
       ]
      },
      {
       "output_type": "stream",
       "stream": "stdout",
       "text": [
        "\n",
        "\n",
        "$10.06 \\pm 0.30$"
       ]
      },
      {
       "output_type": "stream",
       "stream": "stdout",
       "text": [
        "\n",
        "$9.99 \\pm 0.07$"
       ]
      },
      {
       "output_type": "stream",
       "stream": "stdout",
       "text": [
        "\n",
        "$9.900 \\pm 0.033$"
       ]
      },
      {
       "output_type": "stream",
       "stream": "stdout",
       "text": [
        "\n",
        "\n",
        "gewichteter Mittelwert:  $9.769 \\pm 0.015$\n",
        "gewichteter Mittelwert ohne violett:  $9.936 \\pm 0.018$\n"
       ]
      }
     ],
     "prompt_number": 28
    },
    {
     "cell_type": "code",
     "collapsed": false,
     "input": [
      "for i in range(len(messwerte[0])):\n",
      "    for j in range(len(messwerte)):\n",
      "       print \"&\", pTex([deg(messwerte[j][i]),0.1])\n",
      "    print \"\\\\\\\\\"\n",
      "    print"
     ],
     "language": "python",
     "metadata": {},
     "outputs": [
      {
       "output_type": "stream",
       "stream": "stdout",
       "text": [
        "& $2.30 \\pm 0.10$\n",
        "& $2.30 \\pm 0.10$\n",
        "& $3.10 \\pm 0.10$\n",
        "& $3.30 \\pm 0.10$\n",
        "& $3.30 \\pm 0.10$\n",
        "\\\\\n",
        "\n",
        "& $9.30 \\pm 0.10$\n",
        "& $10.00 \\pm 0.10$\n",
        "& $12.60 \\pm 0.10$\n",
        "& $13.30 \\pm 0.10$\n",
        "& $13.40 \\pm 0.10$\n",
        "\\\\\n",
        "\n",
        "& $20.50 \\pm 0.10$\n",
        "& $20.50 \\pm 0.10$\n",
        "& $26.10 \\pm 0.10$\n",
        "& $27.70 \\pm 0.10$\n",
        "& $27.90 \\pm 0.10$\n",
        "\\\\\n",
        "\n"
       ]
      }
     ],
     "prompt_number": 29
    },
    {
     "cell_type": "code",
     "collapsed": false,
     "input": [
      "da=[rad(0.1),rad(0.2)]\n",
      "alpha=[rad(14.7),rad(29.1)]\n",
      "k2=[4,8]\n",
      "for i in range(len(da)):\n",
      "    dl=ma.Sheet(\"cos(alpha)*da*a/k\",\"\\Delta\\lambda\")\n",
      "    dl.v('alpha',alpha[i],rad(0.1),tex=\"\\alpha\")\n",
      "    dl.v('da',da[i],rad(0.1),\"\\Delta \\\\alpha\")\n",
      "    dl.v('a',b_gew[0],b_gew[1])\n",
      "    dl.v('k',k2[i])\n",
      "    dl.ps()"
     ],
     "language": "python",
     "metadata": {},
     "outputs": [
      {
       "output_type": "stream",
       "stream": "stdout",
       "text": [
        "\\Delta\\lambda=\\frac{a}{k} \\cdot \\Delta \\alpha \\cdot \\cos{\\left (\\alpha \\right )}\n",
        "\n",
        "\\Delta\\lambda=4.2 \\pm 4.2\n",
        "\n",
        "\\sigma_{\\Delta\\lambda}=\\frac{1}{k} \\cdot \\sqrt{a^{2} \\cdot \\Delta \\alpha^{2} \\cdot \\sigma_{\\alpha}^{2} \\cdot \\sin^{2}{\\left (\\alpha \\right )} + a^{2} \\cdot \\sigma_{\\Delta \\alpha}^{2} \\cdot \\cos^{2}{\\left (\\alpha \\right )} + \\Delta \\alpha^{2} \\cdot \\sigma_{a}^{2} \\cdot \\cos^{2}{\\left (\\alpha \\right )}}\n",
        "\n",
        "\\Delta\\lambda=\\frac{a}{k} \\cdot \\Delta \\alpha \\cdot \\cos{\\left (\\alpha \\right )}\n"
       ]
      },
      {
       "output_type": "stream",
       "stream": "stdout",
       "text": [
        "\n",
        "\\Delta\\lambda=3.8 \\pm 1.9\n",
        "\n",
        "\\sigma_{\\Delta\\lambda}=\\frac{1}{k} \\cdot \\sqrt{a^{2} \\cdot \\Delta \\alpha^{2} \\cdot \\sigma_{\\alpha}^{2} \\cdot \\sin^{2}{\\left (\\alpha \\right )} + a^{2} \\cdot \\sigma_{\\Delta \\alpha}^{2} \\cdot \\cos^{2}{\\left (\\alpha \\right )} + \\Delta \\alpha^{2} \\cdot \\sigma_{a}^{2} \\cdot \\cos^{2}{\\left (\\alpha \\right )}}\n",
        "\n"
       ]
      }
     ],
     "prompt_number": 44
    },
    {
     "cell_type": "code",
     "collapsed": false,
     "input": [
      "for i in range(len(k)):\n",
      "    lambdaViolett=ma.Sheet(\"sin(x)*a/k\",\"\\lambda_\\\\text{violett}\")\n",
      "    lambdaViolett.v('x',messwerte[1][i],rad(0.1),\"\\\\alpha\")\n",
      "    lambdaViolett.v('k',k[i])\n",
      "    lambdaViolett.v('a',b_gew[0],b_gew[1])\n",
      "    lambdaViolett.ps()"
     ],
     "language": "python",
     "metadata": {},
     "outputs": [
      {
       "output_type": "stream",
       "stream": "stdout",
       "text": [
        "\\lambda_\\text{violett}=\\frac{a}{k} \\cdot \\sin{\\left (\\alpha \\right )}\n",
        "\n",
        "\\lambda_\\text{violett}=\\left(4.0 \\pm 0.2\\right) \\times 10^{2}\n",
        "\n",
        "\\sigma_{\\lambda_\\text{violett}}=\\frac{1}{k} \\cdot \\sqrt{a^{2} \\cdot \\sigma_{\\alpha}^{2} \\cdot \\cos^{2}{\\left (\\alpha \\right )} + \\sigma_{a}^{2} \\cdot \\sin^{2}{\\left (\\alpha \\right )}}\n",
        "\n",
        "\\lambda_\\text{violett}=\\frac{a}{k} \\cdot \\sin{\\left (\\alpha \\right )}\n"
       ]
      },
      {
       "output_type": "stream",
       "stream": "stdout",
       "text": [
        "\n",
        "\\lambda_\\text{violett}=431.3 \\pm 4.3\n",
        "\n",
        "\\sigma_{\\lambda_\\text{violett}}=\\frac{1}{k} \\cdot \\sqrt{a^{2} \\cdot \\sigma_{\\alpha}^{2} \\cdot \\cos^{2}{\\left (\\alpha \\right )} + \\sigma_{a}^{2} \\cdot \\sin^{2}{\\left (\\alpha \\right )}}\n",
        "\n",
        "\\lambda_\\text{violett}=\\frac{a}{k} \\cdot \\sin{\\left (\\alpha \\right )}\n"
       ]
      },
      {
       "output_type": "stream",
       "stream": "stdout",
       "text": [
        "\n",
        "\\lambda_\\text{violett}=435.0 \\pm 2.2\n",
        "\n",
        "\\sigma_{\\lambda_\\text{violett}}=\\frac{1}{k} \\cdot \\sqrt{a^{2} \\cdot \\sigma_{\\alpha}^{2} \\cdot \\cos^{2}{\\left (\\alpha \\right )} + \\sigma_{a}^{2} \\cdot \\sin^{2}{\\left (\\alpha \\right )}}\n",
        "\n"
       ]
      }
     ],
     "prompt_number": 43
    }
   ],
   "metadata": {}
  }
 ]
}