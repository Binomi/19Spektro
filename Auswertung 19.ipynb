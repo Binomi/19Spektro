{
 "metadata": {
  "name": "Auswertung 19"
 },
 "nbformat": 3,
 "nbformat_minor": 0,
 "worksheets": [
  {
   "cells": [
    {
     "cell_type": "code",
     "collapsed": false,
     "input": [
      "import maabara as ma"
     ],
     "language": "python",
     "metadata": {},
     "outputs": [],
     "prompt_number": 2
    },
    {
     "cell_type": "code",
     "collapsed": false,
     "input": [
      "Kronglas=[20.6,19.89]\n",
      "sFlint=[19.74,17.31]\n",
      "lFlint=[21.01,19.55]\n",
      "Pgelbgruen=[Kronglas,sFlint,lFlint]\n",
      "s=[28.5,31.5,30.0]\n",
      "l1=579.07\n",
      "l2=546.07"
     ],
     "language": "python",
     "metadata": {},
     "outputs": [],
     "prompt_number": 6
    },
    {
     "cell_type": "code",
     "collapsed": false,
     "input": [
      "for i in range(len(s)):\n",
      "    "
     ],
     "language": "python",
     "metadata": {},
     "outputs": []
    }
   ],
   "metadata": {}
  }
 ]
}